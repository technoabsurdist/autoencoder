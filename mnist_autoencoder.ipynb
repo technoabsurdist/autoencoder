{
  "nbformat": 4,
  "nbformat_minor": 0,
  "metadata": {
    "colab": {
      "provenance": []
    },
    "kernelspec": {
      "name": "python3",
      "display_name": "Python 3"
    },
    "language_info": {
      "name": "python"
    }
  },
  "cells": [
    {
      "cell_type": "markdown",
      "source": [
        "### Auto Encoders\n",
        "Auto Encoders have a variety of image-related use-cases.\n",
        "These networks can generate representations of the input, in a sort of compression.\n",
        "So it learns to generate an output that approximates the original.\n",
        "You can use this approximate to do all sorts of transformations on the original image.\n",
        "Colorize, higher-quality, etc.\n",
        "\n",
        "Arguably, an auto-encoder's most interesting aspect is the reverse of what we just described. When the auto-encoder receives a corrupted output and tries to reconstruct the original image from the noisy version of it.\n",
        "\n",
        "Once we've taught an auto-encoder to remove noise from images, we can use that for a wide variety of use cases. For example we can apply it to all sorts of objects within an object element that displayed the same noise pattern,\n",
        "\n",
        "The encoder itself encodes the input into latent space."
      ],
      "metadata": {
        "id": "4vjXQNmB24Nd"
      }
    },
    {
      "cell_type": "code",
      "source": [
        "import torch\n",
        "from torchvision import datasets,transforms\n",
        "\n",
        "train_dataset = datasets.MNIST(root='./mnist_data/', train=True, transform=transforms.ToTensor(), download=True)\n",
        "test_dataset = datasets.MNIST(root='./mnist_data/', train=False, transform=transforms.ToTensor(), download=True)\n",
        "\n",
        "print(train_dataset)\n",
        "\n",
        "batchSize=128\n",
        "\n",
        "train_loader = torch.utils.data.DataLoader(dataset=train_dataset, batch_size=batchSize, shuffle=True)\n",
        "test_loader = torch.utils.data.DataLoader(dataset=test_dataset, batch_size=batchSize, shuffle=False)"
      ],
      "metadata": {
        "colab": {
          "base_uri": "https://localhost:8080/"
        },
        "id": "pgXa5M1Yu5Fs",
        "outputId": "6d205a26-85cc-4a71-d189-bd22fc7d3086"
      },
      "execution_count": 30,
      "outputs": [
        {
          "output_type": "stream",
          "name": "stdout",
          "text": [
            "Dataset MNIST\n",
            "    Number of datapoints: 60000\n",
            "    Root location: ./mnist_data/\n",
            "    Split: Train\n",
            "    StandardTransform\n",
            "Transform: ToTensor()\n"
          ]
        }
      ]
    },
    {
      "cell_type": "code",
      "source": [
        "# Visualizing Data\n",
        "\n",
        "import numpy as np\n",
        "# package we used for image processing\n",
        "from matplotlib import pyplot as plt\n",
        "from torchvision.utils import make_grid\n",
        "\n",
        "def imshow(img):\n",
        "    npimg = img.numpy()\n",
        "    #transpose: change array axis to correspond to the plt.imshow() function\n",
        "    plt.imshow(np.transpose(npimg, (1, 2, 0)))\n",
        "    plt.show()\n",
        "\n",
        "# load the first 16 training samples from next iteration\n",
        "# [:16,:,:,:] for the 4 dimension of examples, first dimension take first 16, other dimension take all data\n",
        "# arrange the image in grid\n",
        "examples, _ = next(iter(train_loader))\n",
        "example_show=make_grid(examples[:16,:,:,:], 4)\n",
        "\n",
        "# then display them\n",
        "imshow(example_show)"
      ],
      "metadata": {
        "colab": {
          "base_uri": "https://localhost:8080/",
          "height": 434
        },
        "id": "FTMKOPBUu92n",
        "outputId": "00fbcd75-d973-4641-b9f8-905854c256e1"
      },
      "execution_count": 32,
      "outputs": [
        {
          "output_type": "display_data",
          "data": {
            "text/plain": [
              "<Figure size 640x480 with 1 Axes>"
            ],
            "image/png": "[encoded data removed]"
          },
          "metadata": {}
        }
      ]
    },
    {
      "cell_type": "code",
      "source": [
        "import torch.nn as nn\n",
        "import torch.nn.functional as F\n",
        "import torch.optim as optim\n",
        "\n",
        "# Network Parameters\n",
        "num_hidden_1 = 256  # 1st layer num features\n",
        "num_hidden_2 = 128  # 2nd layer num features (the latent dim)\n",
        "num_input = 784  # MNIST data input (img shape: 28*28)\n",
        "\n",
        "\n",
        "# Building the encoder\n",
        "class Autoencoder(nn.Module):\n",
        "    def __init__(self, x_dim, h_dim1, h_dim2):\n",
        "        super(Autoencoder, self).__init__()\n",
        "        # encoder part\n",
        "        self.fc1 = nn.Linear(x_dim, h_dim1)\n",
        "        self.fc2 = nn.Linear(h_dim1, h_dim2)\n",
        "        # decoder part\n",
        "        self.fc3 = nn.Linear(h_dim2, h_dim1)\n",
        "        self.fc4 = nn.Linear(h_dim1, x_dim)\n",
        "\n",
        "    def encoder(self, x):\n",
        "        x = torch.sigmoid(self.fc1(x))\n",
        "        x = torch.sigmoid(self.fc2(x))\n",
        "        return x\n",
        "\n",
        "    def decoder(self, x):\n",
        "        x = torch.sigmoid(self.fc3(x))\n",
        "        x = torch.sigmoid(self.fc4(x))\n",
        "        return x\n",
        "\n",
        "    def forward(self, x):\n",
        "        x = self.encoder(x)\n",
        "        x = self.decoder(x)\n",
        "        return x\n",
        "\n",
        "# When initialzing, it will run __init__() function as above\n",
        "model = Autoencoder(num_input, num_hidden_1, num_hidden_2)\n",
        "# using cpu not GPU cuda\n",
        "model.cpu()"
      ],
      "metadata": {
        "colab": {
          "base_uri": "https://localhost:8080/"
        },
        "id": "CpS60eymvENW",
        "outputId": "ce15bba9-a481-4b74-9071-367fb6ce835b"
      },
      "execution_count": 34,
      "outputs": [
        {
          "output_type": "execute_result",
          "data": {
            "text/plain": [
              "Autoencoder(\n",
              "  (fc1): Linear(in_features=784, out_features=256, bias=True)\n",
              "  (fc2): Linear(in_features=256, out_features=128, bias=True)\n",
              "  (fc3): Linear(in_features=128, out_features=256, bias=True)\n",
              "  (fc4): Linear(in_features=256, out_features=784, bias=True)\n",
              ")"
            ]
          },
          "metadata": {},
          "execution_count": 34
        }
      ]
    },
    {
      "cell_type": "code",
      "source": [
        "# Train the network\n",
        "optimizer = optim.Adam(model.parameters())\n",
        "epoch = 100\n",
        "loss_function = nn.MSELoss()\n",
        "\n",
        "print('====Training start====')\n",
        "for i in range(epoch):\n",
        "    train_loss = 0\n",
        "    for batch_idx, (data, _) in enumerate(train_loader):\n",
        "        # prepare input data\n",
        "        data = data.cpu()\n",
        "        inputs = torch.reshape(data,(-1, 784)) # -1 can be any value. So when reshape, it will satisfy 784 first\n",
        "\n",
        "        # set gradient to zero\n",
        "        optimizer.zero_grad()\n",
        "\n",
        "        # feed inputs into model\n",
        "        recon_x = model(inputs)\n",
        "\n",
        "        # calculating loss\n",
        "        loss = loss_function(recon_x, inputs)\n",
        "\n",
        "        # calculate gradient of each parameter\n",
        "        loss.backward()\n",
        "        train_loss += loss.item()\n",
        "\n",
        "        # update the weight based on the gradient calculated\n",
        "        optimizer.step()\n",
        "\n",
        "    if i%10==0:\n",
        "        print('====> Epoch: {} Average loss: {:.9f}'.format(i, train_loss ))\n",
        "print('====Training finish====')"
      ],
      "metadata": {
        "colab": {
          "base_uri": "https://localhost:8080/"
        },
        "id": "nh3oe5TIvrXz",
        "outputId": "9f5728d3-685e-4e16-c8e7-81c58bb28df5"
      },
      "execution_count": 35,
      "outputs": [
        {
          "output_type": "stream",
          "name": "stdout",
          "text": [
            "====Training start====\n",
            "====> Epoch: 0 Average loss: 30.436954714\n",
            "====> Epoch: 10 Average loss: 5.749410745\n",
            "====> Epoch: 20 Average loss: 3.478483473\n",
            "====> Epoch: 30 Average loss: 2.620262985\n",
            "====> Epoch: 40 Average loss: 2.172454346\n",
            "====> Epoch: 50 Average loss: 1.900289722\n",
            "====> Epoch: 60 Average loss: 1.701865999\n",
            "====> Epoch: 70 Average loss: 1.557501830\n",
            "====> Epoch: 80 Average loss: 1.441567482\n",
            "====> Epoch: 90 Average loss: 1.353375638\n",
            "====Training finish====\n"
          ]
        }
      ]
    },
    {
      "cell_type": "code",
      "source": [
        "import torch\n",
        "import matplotlib.pyplot as plt\n",
        "\n",
        "def generate_digit(digit):\n",
        "\n",
        "  digit_images = train_dataset.data[train_dataset.targets == digit].float()\n",
        "\n",
        "  # Flatten images\n",
        "  digit_images = torch.reshape(digit_images, (-1, 784))\n",
        "\n",
        "  # average encoding\n",
        "  encoded_digits = []\n",
        "  with torch.no_grad():\n",
        "      for img in digit_images:\n",
        "          img = img.unsqueeze(0)\n",
        "          encoded_digit = model.encoder(img)\n",
        "          encoded_digits.append(encoded_digit)\n",
        "\n",
        "  # avg of all encodes\n",
        "  average_encoded_digit = torch.mean(torch.stack(encoded_digits), dim=0)\n",
        "\n",
        "  # generate image from avg latent space\n",
        "  with torch.no_grad():\n",
        "      generated_image = model.decoder(average_encoded_digit)\n",
        "      generated_image = generated_image.reshape(28, 28)\n",
        "\n",
        "  return generated_image\n",
        "\n",
        "\n",
        "# visualize\n",
        "digit = 5 # edit to visualize any digit\n",
        "generated_image = generate_digit(digit)\n",
        "plt.imshow(generated_image, cmap='gray')\n",
        "plt.title(f'Generated Average Image of Digit {digit}')\n",
        "plt.show()"
      ],
      "metadata": {
        "colab": {
          "base_uri": "https://localhost:8080/",
          "height": 452
        },
        "id": "2cQV5Y4Z1oh9",
        "outputId": "e4dffbc7-a5cc-434a-dfe1-15c9319fe978"
      },
      "execution_count": 47,
      "outputs": [
        {
          "output_type": "display_data",
          "data": {
            "text/plain": [
              "<Figure size 640x480 with 1 Axes>"
            ],
            "image/png": "[encoded data removed]"
          },
          "metadata": {}
        }
      ]
    },
    {
      "cell_type": "code",
      "source": [
        "# get 100 image-label pairs from training set\n",
        "x_train, y_train = next(iter(train_loader))\n",
        "\n",
        "# 10 classes, 10 samples per class, 100 in total\n",
        "candidates = np.random.choice(batchSize, 10*10)\n",
        "\n",
        "# randomly select 100 samples\n",
        "x_train = x_train[candidates]\n",
        "y_train = y_train[candidates]\n",
        "\n",
        "x_test, y_test = next(iter(train_loader))\n",
        "candidates_test = np.random.choice(batchSize, 10*10)\n",
        "\n",
        "x_test = x_test[candidates_test]\n",
        "y_test = y_test[candidates_test]\n",
        "\n",
        "# compute the representations of training and test samples\n",
        "h_train=model.encoder(torch.reshape(x_train.cpu(),(-1,784)))\n",
        "h_test=model.encoder(torch.reshape(x_test.cpu(),(-1,784)))\n",
        "\n",
        "# find the nearest training samples to each test instance, in terms of MSE\n",
        "MSEs = np.mean(np.power(np.expand_dims(h_test.detach().cpu(), axis=1) - np.expand_dims(h_train.detach().cpu(), axis=0), 2), axis=2)\n",
        "neighbours = MSEs.argmin(axis=1)\n",
        "predicts = y_train[neighbours]\n",
        "\n",
        "print('Recognition accuracy according to the learned representation is %.1f%%' % (100 * (y_test == predicts).numpy().astype(np.float32).mean()))\n"
      ],
      "metadata": {
        "colab": {
          "base_uri": "https://localhost:8080/"
        },
        "id": "9rd-hmJc36SB",
        "outputId": "887d4d34-5476-44f5-e2a5-164068f15a61"
      },
      "execution_count": 54,
      "outputs": [
        {
          "output_type": "stream",
          "name": "stdout",
          "text": [
            "Recognition accuracy according to the learned representation is 74.0%\n"
          ]
        }
      ]
    }
  ]
}